{
 "cells": [
  {
   "cell_type": "markdown",
   "id": "b53e8243",
   "metadata": {},
   "source": [
    "In this notebook we will develop the necessary code to perform the different simulations, and save the results to be analyzed later."
   ]
  },
  {
   "cell_type": "code",
   "execution_count": 1,
   "id": "9cb4f364",
   "metadata": {},
   "outputs": [],
   "source": [
    "# Import modules\n",
    "import numpy as np\n",
    "import pandas as pd\n",
    "import matplotlib.pyplot as plt"
   ]
  },
  {
   "cell_type": "markdown",
   "id": "9d26f504",
   "metadata": {},
   "source": [
    "# Designing the simulations\n",
    "\n",
    "We will proceed in an object oriented manner, and implement the Gillespie algorithm for stochastic simulations."
   ]
  },
  {
   "cell_type": "code",
   "execution_count": 7,
   "id": "563091c5",
   "metadata": {},
   "outputs": [],
   "source": [
    "# Initialize the universal Simulation class\n",
    "# over a custom network\n",
    "class Sim(object):\n",
    "    def __init__(self, N, I_0, M, m, beta, gamma):\n",
    "        '''\n",
    "        Params:\n",
    "            N : numpy array\n",
    "                Array of shape (L,) containing the initial size of\n",
    "                each population.\n",
    "            I_0 : numpy array\n",
    "                Array of shape (L,) containing the initial amount of\n",
    "                infected individuals in each population.\n",
    "            M : numpy array\n",
    "                Array of shape (L,L) with the mobility fractions M_ij\n",
    "                from population i to population j.\n",
    "            m : int \n",
    "                Number of infection stages.\n",
    "            beta : numpy array\n",
    "                Array of shape (m,) with the infection rates for each \n",
    "                infection stage.\n",
    "            gamma : numpy array\n",
    "                Array of shape (m,) with the transition rates from \n",
    "                each infection stage into the next one (or recovered\n",
    "                state).\n",
    "        '''\n",
    "        # Population parameters\n",
    "        self.N = N\n",
    "        self.I_0 = I_0\n",
    "        self.M = M\n",
    "        \n",
    "        # Infection parameters\n",
    "        self.m = m \n",
    "        self.beta = beta\n",
    "        self.gamma = gamma\n",
    "        \n",
    "        # Initialize simulation info\n",
    "        self.t = [0]\n",
    "        self.state = [[1 - I_0[i]/N[i], I_0[i]/N[i], 0] for i in range(len(N))]\n",
    "        \n",
    "        \n",
    "        \n",
    "# Now, we need to define the kernel-transmission (KT) model\n",
    "class SimKT(Sim):\n",
    "    def __init__(self, N, I_0, M, m, beta, gamma):\n",
    "        super().__init__(N, I_0, M, m, beta, gamma)"
   ]
  },
  {
   "cell_type": "code",
   "execution_count": 9,
   "id": "10aa403f",
   "metadata": {},
   "outputs": [],
   "source": [
    "test_sim = SimKT([1e3 for i in range(10)], [1 for i in range(10)], \n",
    "                  M=np.ones(shape=(10,10))/10, m=5, beta=[0.1 for i in range(5)],\n",
    "                  gamma=[0.1 for i in range(5)])"
   ]
  },
  {
   "cell_type": "code",
   "execution_count": null,
   "id": "af5b896c",
   "metadata": {},
   "outputs": [],
   "source": []
  }
 ],
 "metadata": {
  "kernelspec": {
   "display_name": "Python 3",
   "language": "python",
   "name": "python3"
  },
  "language_info": {
   "codemirror_mode": {
    "name": "ipython",
    "version": 3
   },
   "file_extension": ".py",
   "mimetype": "text/x-python",
   "name": "python",
   "nbconvert_exporter": "python",
   "pygments_lexer": "ipython3",
   "version": "3.8.8"
  }
 },
 "nbformat": 4,
 "nbformat_minor": 5
}
