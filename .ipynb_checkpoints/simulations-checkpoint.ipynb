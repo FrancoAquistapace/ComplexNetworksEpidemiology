{
 "cells": [
  {
   "cell_type": "markdown",
   "id": "017c9cc2",
   "metadata": {},
   "source": [
    "In this notebook we will develop the necessary code to perform the different simulations, and save the results to be analyzed later."
   ]
  },
  {
   "cell_type": "code",
   "execution_count": 11,
   "id": "50a93ce6",
   "metadata": {},
   "outputs": [],
   "source": [
    "# Import modules\n",
    "import numpy as np\n",
    "import pandas as pd\n",
    "import time\n",
    "import matplotlib.pyplot as plt"
   ]
  },
  {
   "cell_type": "markdown",
   "id": "a53e851e",
   "metadata": {},
   "source": [
    "# Designing the simulations\n",
    "\n",
    "We will proceed in an object oriented manner, and implement the Gillespie algorithm for stochastic simulations."
   ]
  },
  {
   "cell_type": "code",
   "execution_count": 90,
   "id": "0b996889",
   "metadata": {},
   "outputs": [],
   "source": [
    "# Initialize the universal Simulation class\n",
    "# over a custom network\n",
    "class Sim(object):\n",
    "    def __init__(self, N, I_0, M, m, beta, gamma):\n",
    "        '''\n",
    "        Params:\n",
    "            N : numpy array\n",
    "                Array of shape (L,) containing the initial size of\n",
    "                each population.\n",
    "            I_0 : numpy array\n",
    "                Array of shape (L,) containing the initial amount of\n",
    "                infected individuals in each population.\n",
    "            M : numpy array\n",
    "                Array of shape (L,L) with the mobility fractions M_ij\n",
    "                from population i to population j.\n",
    "            m : int \n",
    "                Number of infection stages.\n",
    "            beta : numpy array\n",
    "                Array of shape (m,) with the infection rates for each \n",
    "                infection stage. The timescale must be one hour.\n",
    "            gamma : numpy array\n",
    "                Array of shape (m,) with the transition rates from \n",
    "                each infection stage into the next one (or recovered\n",
    "                state). The timescale must be one hour.\n",
    "        '''\n",
    "        # Population parameters\n",
    "        self.N = np.array(N)\n",
    "        self.I_0 = np.array(I_0)\n",
    "        self.M = np.array(M)\n",
    "        \n",
    "        # Infection parameters\n",
    "        self.m = m \n",
    "        self.beta = beta\n",
    "        self.gamma = gamma\n",
    "        \n",
    "        # Initialize simulation info\n",
    "        self.t = [0]\n",
    "        init_state = []\n",
    "        for i in range(len(N)):\n",
    "            i_state = [1 - I_0[i], I_0[i]]\n",
    "            for j in range(m):\n",
    "                i_state.append(0)\n",
    "            init_state.append(i_state)\n",
    "        self.state = np.array(init_state)\n",
    "        \n",
    "        self.history = [self.state.copy()]\n",
    "        self.tot_history = [np.sum(self.state, 0)]\n",
    "        self.elapsed_time = None\n",
    "        \n",
    "        \n",
    "# Now, we need to define the kernel-transmission (KT) model\n",
    "# for humans\n",
    "class SimKTHuman(Sim):\n",
    "    def __init__(self, N, I_0, M, m, beta, gamma):\n",
    "        super().__init__(N, I_0, M, m, beta, gamma)\n",
    "        \n",
    "    # Function to calculate force of infection\n",
    "    def FOI(self, t):\n",
    "        '''\n",
    "        Params:\n",
    "            t : float\n",
    "                Current time in the dynamics of the system, \n",
    "                in a timescale of hours.\n",
    "        Output:\n",
    "            Calculates the force of infection (FOI) for each\n",
    "            population using the kernel-transmission model.\n",
    "        '''    \n",
    "        # Get current infecteds\n",
    "        I = self.state[:,1:self.m+1]\n",
    "        \n",
    "        # Calculate differently for day-time and night-time\n",
    "        if t % 24 >= 16:\n",
    "            # Day-time\n",
    "            beta_term = np.einsum('i,ji->j', self.beta, I)\n",
    "            N_inv_term = 1 / np.einsum('l,lk->k', self.N, self.M)\n",
    "            M_term = np.einsum('ik, jk, k -> ij', \n",
    "                               self.M, self.M, N_inv_term)\n",
    "            lambdas = np.einsum('j,ij -> i', beta_term, M_term)\n",
    "            \n",
    "        else:\n",
    "            # Night-time\n",
    "            beta_term = np.einsum('i,ji->j', self.beta, I)\n",
    "            N_inv = 1 / self.N.astype('float')\n",
    "            lambdas = np.einsum('i,i->i', beta_term, N_inv)\n",
    "            \n",
    "        # Set FOI and return it\n",
    "        self.current_FOI = lambdas\n",
    "        return lambdas\n",
    "    \n",
    "    \n",
    "    # Function to run the simulation    \n",
    "    def run(self, verbose=True, tol=int(1e6)):\n",
    "        '''\n",
    "        Params:\n",
    "            verbose : bool (optional)\n",
    "                Whether to print information while running the\n",
    "                simulation. Default is True.\n",
    "            tol : int (optional)\n",
    "                Amount of iterations to tolerate before forcing\n",
    "                the termination of the simulation. Default is \n",
    "                1e6 iterations.\n",
    "        Output:\n",
    "            Performs a kernel-transmission model simulation. The \n",
    "            simulation is ended when there are no more infectious\n",
    "            individual in the entire system. The sampled times in\n",
    "            the Gillespie scheme are in a timescale of one hour.\n",
    "        '''\n",
    "        # Centinel variables\n",
    "        running = True\n",
    "        iters = 0\n",
    "        \n",
    "        # Start timing\n",
    "        t1 = time.time()\n",
    "        \n",
    "        # Iterate until termination is reached\n",
    "        while running:\n",
    "            iters += 1\n",
    "            \n",
    "            # Update state\n",
    "            \n",
    "            \n",
    "            # Update history\n",
    "            \n",
    "            \n",
    "            # Check for termination\n",
    "            tot_I = self.tot_history[-1][1]\n",
    "            if tot_I < 1:\n",
    "                running = False\n",
    "                \n",
    "            if iters > tol:\n",
    "                running = False\n",
    "                \n",
    "        # Finish timing\n",
    "        t2 = time.time()\n",
    "        \n",
    "        # Store elapsed time\n",
    "        self.elapsed_time = t2 - t1\n",
    "        if verbose:\n",
    "            mins = (t2-t1)//60\n",
    "            secs = round((t2-t1) % 60)\n",
    "            print(f'Process finished in {mins} minutes and {secs} seconds.')\n",
    "            \n",
    "        return self.t, self.history"
   ]
  },
  {
   "cell_type": "code",
   "execution_count": 91,
   "id": "5280a8e8",
   "metadata": {},
   "outputs": [],
   "source": [
    "test_sim = SimKTHuman(\n",
    "    [1e3 for i in range(10)], [1 if i == 0 else 0 for i in range(10)], \n",
    "    M=np.ones(shape=(10,10))/10, m=5, beta=[0.1 for i in range(5)],\n",
    "    gamma=[0.1 for i in range(5)])"
   ]
  },
  {
   "cell_type": "code",
   "execution_count": 94,
   "id": "0de44b71",
   "metadata": {},
   "outputs": [
    {
     "data": {
      "text/plain": [
       "array([1.e-05, 1.e-05, 1.e-05, 1.e-05, 1.e-05, 1.e-05, 1.e-05, 1.e-05,\n",
       "       1.e-05, 1.e-05])"
      ]
     },
     "execution_count": 94,
     "metadata": {},
     "output_type": "execute_result"
    }
   ],
   "source": [
    "test_sim.FOI(t=16)"
   ]
  },
  {
   "cell_type": "code",
   "execution_count": 32,
   "id": "df6e9f15",
   "metadata": {},
   "outputs": [
    {
     "data": {
      "text/plain": [
       "array([ 0,  4, 10,  0, 42])"
      ]
     },
     "execution_count": 32,
     "metadata": {},
     "output_type": "execute_result"
    }
   ],
   "source": [
    "A = np.array([1, 2, 5, 9, 21])\n",
    "B = 2*np.array([0, 1, 1, 0, 1])\n",
    "np.einsum('i,i->i', A, B)"
   ]
  },
  {
   "cell_type": "code",
   "execution_count": 60,
   "id": "1948890c",
   "metadata": {},
   "outputs": [
    {
     "data": {
      "text/plain": [
       "2"
      ]
     },
     "execution_count": 60,
     "metadata": {},
     "output_type": "execute_result"
    }
   ],
   "source": [
    "2 % 24"
   ]
  },
  {
   "cell_type": "code",
   "execution_count": null,
   "id": "cd86ed75",
   "metadata": {},
   "outputs": [],
   "source": []
  }
 ],
 "metadata": {
  "kernelspec": {
   "display_name": "Python 3",
   "language": "python",
   "name": "python3"
  },
  "language_info": {
   "codemirror_mode": {
    "name": "ipython",
    "version": 3
   },
   "file_extension": ".py",
   "mimetype": "text/x-python",
   "name": "python",
   "nbconvert_exporter": "python",
   "pygments_lexer": "ipython3",
   "version": "3.8.8"
  }
 },
 "nbformat": 4,
 "nbformat_minor": 5
}
